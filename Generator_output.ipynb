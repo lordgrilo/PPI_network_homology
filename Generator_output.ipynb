{
 "metadata": {
  "name": "Generator_output"
 },
 "nbformat": 3,
 "nbformat_minor": 0,
 "worksheets": [
  {
   "cells": [
    {
     "cell_type": "heading",
     "level": 1,
     "metadata": {},
     "source": [
      "Example analysis script"
     ]
    },
    {
     "cell_type": "markdown",
     "metadata": {},
     "source": [
      "This script is a simple example of how to explore the generators produced through the persistent homology analysis. "
     ]
    },
    {
     "cell_type": "heading",
     "level": 3,
     "metadata": {},
     "source": [
      "Setup"
     ]
    },
    {
     "cell_type": "code",
     "collapsed": false,
     "input": [
      "import os, sys, pickle\n",
      "import Holes as ho\n",
      "import networkx as nx \n",
      "import matplotlib.pyplot as plt\n"
     ],
     "language": "python",
     "metadata": {},
     "outputs": []
    },
    {
     "cell_type": "heading",
     "level": 3,
     "metadata": {},
     "source": [
      "Load generator data"
     ]
    },
    {
     "cell_type": "markdown",
     "metadata": {},
     "source": [
      "The generators file contains a dictionary, labeled by the homology dimensions of the groups (dim=0,1...).  \n",
      "Each entry gen_dict[dim] is the a list of constructs of the <Cycle> class.  \n",
      "  \n",
      "If you change the value of notebook_mode to False, it is possible to run this script from command line directly,  \n",
      "feeding the generator file to the script.  "
     ]
    },
    {
     "cell_type": "code",
     "collapsed": false,
     "input": [
      "notebook_mode=False;\n",
      "\n",
      "if notebook_mode==True:\n",
      "    gen_file='gen/relabeled_weighted_generators_umbilical.pck';\n",
      "    output_file='generator_output_umbilical.txt';\n",
      "else:\n",
      "    print 'Inputs: \\n 1) generator file \\n 2) output_file\\n';\n",
      "    gen_file=sys.argv[1];\n",
      "    output_file=sys.argv[2];\n",
      "\n",
      "gen_dict=pickle.load(open(gen_file));"
     ],
     "language": "python",
     "metadata": {},
     "outputs": []
    },
    {
     "cell_type": "markdown",
     "metadata": {},
     "source": [
      "For your comfort below I produce a copy of the generator of the $H_1$ group ordered in descending order of persistences,   \n",
      "so that the first will be the more persistent etc.  "
     ]
    },
    {
     "cell_type": "code",
     "collapsed": false,
     "input": [
      "aux_dict={};\n",
      "for cycle in gen_dict[1]:\n",
      "    aux_dict[cycle.persistence_interval()] = cycle;\n",
      "    \n",
      "ordered_keys=sorted(aux_dict,reverse=True);\n",
      "new_ordered_generators_list=[];\n",
      "for i in ordered_keys:\n",
      "    new_ordered_generators_list.append(aux_dict[i]);\n",
      "del aux_dict;\n",
      "\n",
      "out=open(output_file,'w');\n",
      "for n in new_ordered_generators_list:\n",
      "    print 'Cycle persistence: ', n.persistence_interval(), '\\n';\n",
      "    out.write('Cycle persistence: '+str(n.persistence_interval())+'\\n');\n",
      "    out.write('Starting at '+str(n.start)+' and ending at '+str(n.end)+'\\n');\n",
      "    out.write('Composed by:\\n');\n",
      "    for el in n.composition:\n",
      "        out.write(str(el)+'\\n');\n",
      "    out.write('\\n');\n",
      "    \n",
      "                  \n",
      "    \n"
     ],
     "language": "python",
     "metadata": {},
     "outputs": []
    }
   ],
   "metadata": {}
  }
 ]
}